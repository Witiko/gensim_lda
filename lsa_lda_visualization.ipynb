{
 "cells": [
  {
   "cell_type": "markdown",
   "metadata": {},
   "source": [
    "Set up logging."
   ]
  },
  {
   "cell_type": "code",
   "execution_count": 1,
   "metadata": {},
   "outputs": [],
   "source": [
    "import logging\n",
    "\n",
    "logging.basicConfig(level=logging.INFO)"
   ]
  },
  {
   "cell_type": "markdown",
   "metadata": {},
   "source": [
    "# Visualizing papers citing “Gensim–python framework for VSM”\n",
    "## Preprocessing"
   ]
  },
  {
   "cell_type": "markdown",
   "metadata": {},
   "source": [
    "Set up text preprocessing routines."
   ]
  },
  {
   "cell_type": "code",
   "execution_count": 2,
   "metadata": {},
   "outputs": [
    {
     "name": "stderr",
     "output_type": "stream",
     "text": [
      "INFO:summarizer.preprocessing.cleaner:'pattern' package not found; tag filters are not available for English\n"
     ]
    },
    {
     "name": "stdout",
     "output_type": "stream",
     "text": [
      "[nltk_data] Downloading package words to /home/witiko/nltk_data...\n",
      "[nltk_data]   Package words is already up-to-date!\n"
     ]
    }
   ],
   "source": [
    "import os\n",
    "\n",
    "from gensim.parsing.preprocessing import (\n",
    "    preprocess_string,\n",
    "    remove_stopwords,\n",
    "    strip_multiple_whitespaces,\n",
    "    strip_numeric,\n",
    "    strip_punctuation,\n",
    "    strip_short,\n",
    "    strip_tags,\n",
    ")    \n",
    "import nltk\n",
    "\n",
    "\n",
    "custom_filters = [\n",
    "    lambda x: x.lower(),\n",
    "    strip_tags,\n",
    "    strip_punctuation,\n",
    "    strip_multiple_whitespaces,\n",
    "    strip_numeric,\n",
    "    remove_stopwords,\n",
    "    strip_short,\n",
    "]\n",
    "\n",
    "nltk.download('words')\n",
    "english_words = set(word.lower() for word in nltk.corpus.words.words())\n",
    "\n",
    "\n",
    "def filter_sentences_from_text(text_lines, min_line_len=20, min_sen_len=15):\n",
    "    fulltext = \" \".join([line for line in list(text_lines) if len([l for l in line.split(\" \") \n",
    "                                                                   if len(l) > 0]) > min_line_len])\n",
    "    sens = filter(lambda sen: len(sen) >= min_sen_len, fulltext.split(\".\"))\n",
    "    return \". \".join(sens)\n",
    "\n",
    "def get_texts_from_dir(texts_dir, filter_sen=False):\n",
    "    txt_files = os.listdir(texts_dir)\n",
    "    txt_files = [os.path.join(texts_dir, txt) for txt in txt_files]\n",
    "    texts = dict()\n",
    "    for txt_f in list(filter(lambda path: path.endswith(\".txt\"), txt_files)):\n",
    "        try:\n",
    "            if filter_sen:\n",
    "                # custom filtering based on sentences length:\n",
    "                text = filter_sentences_from_text(open(txt_f, \"r\").readlines())\n",
    "            else:\n",
    "                # no filtering:\n",
    "                text = open(txt_f, \"r\").read()\n",
    "            text = open(txt_f, \"r\").read()\n",
    "            texts[os.path.basename(txt_f)] = [\n",
    "                word for word in preprocess_string(text, custom_filters)\n",
    "                if word in english_words\n",
    "            ]\n",
    "        except UnicodeDecodeError:\n",
    "            print(\"Utf-8 decode error on %s\" % txt_f)\n",
    "            continue\n",
    "    return texts"
   ]
  },
  {
   "cell_type": "markdown",
   "metadata": {},
   "source": [
    "Preprocess and load the datasets."
   ]
  },
  {
   "cell_type": "code",
   "execution_count": 3,
   "metadata": {},
   "outputs": [],
   "source": [
    "htmls_preproc = get_texts_from_dir('data/fulltexts_html', filter_sen=True)\n",
    "pdfs_preproc = get_texts_from_dir('data/fulltexts_pdf', filter_sen=False)\n",
    "merged_texts_preproc = {**htmls_preproc, **pdfs_preproc}\n",
    "\n",
    "text_links = [name for name, text in merged_texts_preproc.items() if len(text) > 0]\n",
    "texts = [merged_texts_preproc[name] for name in text_links]"
   ]
  },
  {
   "cell_type": "markdown",
   "metadata": {},
   "source": [
    "Construct a dictionary and a corpus."
   ]
  },
  {
   "cell_type": "code",
   "execution_count": 4,
   "metadata": {},
   "outputs": [
    {
     "name": "stderr",
     "output_type": "stream",
     "text": [
      "INFO:gensim.corpora.dictionary:adding document #0 to Dictionary(0 unique tokens: [])\n",
      "INFO:gensim.corpora.dictionary:built Dictionary(24706 unique tokens: ['overlong', 'konstantin', 'navel', 'dimerization', 'presenter']...) from 1257 documents (total 2909278 corpus positions)\n"
     ]
    }
   ],
   "source": [
    "from gensim.corpora.dictionary import Dictionary\n",
    "\n",
    "\n",
    "dictionary = Dictionary(texts)\n",
    "corpus = [dictionary.doc2bow(text) for text in texts]"
   ]
  },
  {
   "cell_type": "markdown",
   "metadata": {},
   "source": [
    "## Topic modeling"
   ]
  },
  {
   "cell_type": "markdown",
   "metadata": {},
   "source": [
    "Compute a rank-2 and rank-30 approximations of the tf-idf term-document matrix using the Latent Semantic Analysis (LSA), and the Latent Discriminant Allocation (LDA). We will use the LSA rank-2 approximation to plot the documents in $\\mathbb R^2$ and the LDA rank-30 approximations for topic modeling."
   ]
  },
  {
   "cell_type": "code",
   "execution_count": 5,
   "metadata": {},
   "outputs": [
    {
     "name": "stderr",
     "output_type": "stream",
     "text": [
      "INFO:gensim.models.tfidfmodel:collecting document frequencies\n",
      "INFO:gensim.models.tfidfmodel:PROGRESS: processing document #0\n",
      "INFO:gensim.models.tfidfmodel:calculating IDF weights for 1257 documents and 24705 features (734635 matrix non-zeros)\n",
      "INFO:gensim.models.ldamodel:using symmetric alpha at 0.5\n",
      "INFO:gensim.models.ldamodel:using symmetric eta at 0.5\n",
      "INFO:gensim.models.ldamodel:using serial LDA version on this node\n",
      "INFO:gensim.models.ldamodel:running online (single-pass) LDA training, 2 topics, 1 passes over the supplied corpus of 1257 documents, updating model once every 1257 documents, evaluating perplexity every 1257 documents, iterating 50x with a convergence threshold of 0.001000\n",
      "WARNING:gensim.models.ldamodel:too few updates, training might not converge; consider increasing the number of passes or iterations to improve accuracy\n",
      "INFO:gensim.models.ldamodel:-11.646 per-word bound, 3205.4 perplexity estimate based on a held-out corpus of 1257 documents with 13381 words\n",
      "INFO:gensim.models.ldamodel:PROGRESS: pass 0, at document #1257/1257\n",
      "INFO:gensim.models.ldamodel:topic #0 (0.500): 0.001*\"scholar\" + 0.001*\"word\" + 0.001*\"model\" + 0.001*\"privacy\" + 0.001*\"semantic\" + 0.001*\"article\" + 0.001*\"password\" + 0.001*\"similarity\" + 0.001*\"enter\" + 0.001*\"organization\"\n",
      "INFO:gensim.models.ldamodel:topic #1 (0.500): 0.002*\"scholar\" + 0.001*\"enter\" + 0.001*\"sign\" + 0.001*\"title\" + 0.001*\"policy\" + 0.001*\"purchase\" + 0.001*\"password\" + 0.001*\"history\" + 0.001*\"privacy\" + 0.001*\"document\"\n",
      "INFO:gensim.models.ldamodel:topic diff=0.890651, rho=1.000000\n",
      "INFO:gensim.models.ldamodel:using symmetric alpha at 0.03333333333333333\n",
      "INFO:gensim.models.ldamodel:using symmetric eta at 0.03333333333333333\n",
      "INFO:gensim.models.ldamodel:using serial LDA version on this node\n",
      "INFO:gensim.models.ldamodel:running online (single-pass) LDA training, 30 topics, 1 passes over the supplied corpus of 1257 documents, updating model once every 1257 documents, evaluating perplexity every 1257 documents, iterating 50x with a convergence threshold of 0.001000\n",
      "WARNING:gensim.models.ldamodel:too few updates, training might not converge; consider increasing the number of passes or iterations to improve accuracy\n",
      "INFO:gensim.models.ldamodel:-121.381 per-word bound, 3462535813231671693945307769994215424.0 perplexity estimate based on a held-out corpus of 1257 documents with 13381 words\n",
      "INFO:gensim.models.ldamodel:PROGRESS: pass 0, at document #1257/1257\n",
      "INFO:gensim.models.ldamodel:topic #11 (0.033): 0.003*\"scholar\" + 0.002*\"enter\" + 0.002*\"title\" + 0.002*\"sign\" + 0.002*\"privacy\" + 0.002*\"password\" + 0.001*\"purchase\" + 0.001*\"organization\" + 0.001*\"policy\" + 0.001*\"history\"\n",
      "INFO:gensim.models.ldamodel:topic #5 (0.033): 0.001*\"enter\" + 0.001*\"password\" + 0.001*\"scholar\" + 0.001*\"sentence\" + 0.001*\"sign\" + 0.001*\"bow\" + 0.001*\"title\" + 0.001*\"summarization\" + 0.001*\"clinical\" + 0.001*\"arabic\"\n",
      "INFO:gensim.models.ldamodel:topic #15 (0.033): 0.002*\"scholar\" + 0.002*\"enter\" + 0.002*\"sign\" + 0.002*\"title\" + 0.001*\"password\" + 0.001*\"privacy\" + 0.001*\"purchase\" + 0.001*\"organization\" + 0.001*\"policy\" + 0.001*\"history\"\n",
      "INFO:gensim.models.ldamodel:topic #7 (0.033): 0.003*\"enter\" + 0.002*\"sign\" + 0.002*\"title\" + 0.002*\"password\" + 0.002*\"purchase\" + 0.002*\"policy\" + 0.001*\"organization\" + 0.001*\"privacy\" + 0.001*\"history\" + 0.001*\"humanity\"\n",
      "INFO:gensim.models.ldamodel:topic #6 (0.033): 0.001*\"entity\" + 0.001*\"scholar\" + 0.001*\"feedback\" + 0.001*\"model\" + 0.001*\"movie\" + 0.001*\"emotion\" + 0.001*\"similarity\" + 0.001*\"word\" + 0.001*\"graph\" + 0.001*\"domain\"\n",
      "INFO:gensim.models.ldamodel:topic diff=23.170940, rho=1.000000\n",
      "INFO:gensim.models.lsimodel:using serial LSI version on this node\n",
      "INFO:gensim.models.lsimodel:updating model with new documents\n",
      "INFO:gensim.models.lsimodel:preparing a new chunk of documents\n",
      "INFO:gensim.models.lsimodel:using 100 extra samples and 2 power iterations\n",
      "INFO:gensim.models.lsimodel:1st phase: constructing (24706, 102) action matrix\n",
      "INFO:gensim.models.lsimodel:orthonormalizing (24706, 102) action matrix\n",
      "INFO:gensim.models.lsimodel:2nd phase: running dense svd on (102, 1257) matrix\n",
      "INFO:gensim.models.lsimodel:computing the final decomposition\n",
      "INFO:gensim.models.lsimodel:keeping 2 factors (discarding 70.877% of energy spectrum)\n",
      "INFO:gensim.models.lsimodel:processed documents up to #1257\n",
      "INFO:gensim.models.lsimodel:topic #0(9.864): 0.344*\"enter\" + 0.273*\"sign\" + 0.241*\"password\" + 0.234*\"title\" + 0.207*\"purchase\" + 0.195*\"organization\" + 0.178*\"privacy\" + 0.178*\"humanity\" + 0.177*\"policy\" + 0.170*\"profession\"\n",
      "INFO:gensim.models.lsimodel:topic #1(7.585): 0.432*\"scholar\" + 0.127*\"word\" + 0.107*\"cite\" + 0.104*\"sentiment\" + 0.103*\"model\" + 0.092*\"semantic\" + 0.089*\"similarity\" + 0.088*\"document\" + 0.087*\"query\" + 0.080*\"neural\"\n",
      "INFO:gensim.models.lsimodel:using serial LSI version on this node\n",
      "INFO:gensim.models.lsimodel:updating model with new documents\n",
      "INFO:gensim.models.lsimodel:preparing a new chunk of documents\n",
      "INFO:gensim.models.lsimodel:using 100 extra samples and 2 power iterations\n",
      "INFO:gensim.models.lsimodel:1st phase: constructing (24706, 130) action matrix\n",
      "INFO:gensim.models.lsimodel:orthonormalizing (24706, 130) action matrix\n",
      "INFO:gensim.models.lsimodel:2nd phase: running dense svd on (130, 1257) matrix\n",
      "INFO:gensim.models.lsimodel:computing the final decomposition\n",
      "INFO:gensim.models.lsimodel:keeping 30 factors (discarding 40.259% of energy spectrum)\n",
      "INFO:gensim.models.lsimodel:processed documents up to #1257\n",
      "INFO:gensim.models.lsimodel:topic #0(9.864): 0.344*\"enter\" + 0.273*\"sign\" + 0.241*\"password\" + 0.234*\"title\" + 0.207*\"purchase\" + 0.195*\"organization\" + 0.178*\"privacy\" + 0.178*\"humanity\" + 0.177*\"policy\" + 0.170*\"profession\"\n",
      "INFO:gensim.models.lsimodel:topic #1(7.585): 0.432*\"scholar\" + 0.127*\"word\" + 0.107*\"cite\" + 0.105*\"sentiment\" + 0.103*\"model\" + 0.092*\"semantic\" + 0.089*\"similarity\" + 0.088*\"document\" + 0.087*\"query\" + 0.080*\"neural\"\n",
      "INFO:gensim.models.lsimodel:topic #2(5.985): -0.725*\"scholar\" + -0.167*\"cite\" + -0.129*\"buy\" + -0.097*\"springer\" + 0.086*\"model\" + -0.086*\"edition\" + -0.083*\"cham\" + -0.083*\"manage\" + -0.083*\"bib\" + 0.081*\"word\"\n",
      "INFO:gensim.models.lsimodel:topic #3(3.144): 0.174*\"item\" + 0.163*\"social\" + 0.153*\"theses\" + -0.153*\"word\" + 0.152*\"article\" + 0.139*\"login\" + 0.132*\"twitter\" + 0.126*\"sentiment\" + 0.123*\"view\" + 0.114*\"media\"\n",
      "INFO:gensim.models.lsimodel:topic #4(3.112): 0.567*\"sentiment\" + -0.340*\"query\" + -0.233*\"bug\" + 0.192*\"opinion\" + -0.135*\"expansion\" + 0.132*\"twitter\" + 0.127*\"polarity\" + 0.116*\"classification\" + -0.116*\"retrieval\" + 0.100*\"arabic\"\n"
     ]
    }
   ],
   "source": [
    "from gensim.models import LdaModel, LsiModel, TfidfModel\n",
    "\n",
    "\n",
    "tfidf_model = TfidfModel(corpus)\n",
    "tfidf_corpus = tfidf_model[corpus]\n",
    "\n",
    "lda_model_2d = LdaModel(tfidf_corpus, id2word=dictionary, num_topics=2)\n",
    "lda_model_30d = LdaModel(tfidf_corpus, id2word=dictionary, num_topics=30)\n",
    "\n",
    "lsa_model_2d = LsiModel(tfidf_corpus, id2word=dictionary, num_topics=2)"
   ]
  },
  {
   "cell_type": "markdown",
   "metadata": {},
   "source": [
    "## Visualization\n",
    "### Using Latent Discriminant Allocation\n",
    "Transform the sparse corpus vectors to dense 2D vectors using LDA, L2-normalize them, and plot them."
   ]
  },
  {
   "cell_type": "code",
   "execution_count": 65,
   "metadata": {},
   "outputs": [
    {
     "data": {
      "text/plain": [
       "<matplotlib.collections.PathCollection at 0x7fa1ab7bc860>"
      ]
     },
     "execution_count": 65,
     "metadata": {},
     "output_type": "execute_result"
    },
    {
     "data": {
      "image/png": "[encoded data removed]",
      "text/plain": [
       "<Figure size 1440x1440 with 1 Axes>"
      ]
     },
     "metadata": {
      "needs_background": "light"
     },
     "output_type": "display_data"
    }
   ],
   "source": [
    "import matplotlib.pyplot as plt\n",
    "import numpy as np\n",
    "\n",
    "document_topics = []\n",
    "for coordinates in lda_model_2d[tfidf_corpus]:\n",
    "    coordinate_dict = dict(coordinates)\n",
    "    document_topics.append((\n",
    "        coordinate_dict[0] if 0 in coordinate_dict else 0.0,\n",
    "        coordinate_dict[1] if 1 in coordinate_dict else 0.0\n",
    "    ))\n",
    "document_topics = np.asfarray(document_topics)\n",
    "document_topics /= np.linalg.norm(document_topics, axis=1)[:, np.newaxis]\n",
    "\n",
    "ax = plt.figure(figsize=(20, 20))\n",
    "plt.scatter(document_topics[:, 0], document_topics[:, 1])"
   ]
  },
  {
   "cell_type": "markdown",
   "metadata": {},
   "source": [
    "Hand-pick a cluster from the above plot."
   ]
  },
  {
   "cell_type": "code",
   "execution_count": 66,
   "metadata": {},
   "outputs": [
    {
     "name": "stdout",
     "output_type": "stream",
     "text": [
      "term.00014.txt\n",
      "\tMain topic: 0.003*\"scholar\" + 0.002*\"enter\" + 0.001*\"sign\" + 0.001*\"table\" + 0.001*\"title\" + 0.001*\"purchase\" + 0.001*\"sentiment\" + 0.001*\"password\" + 0.001*\"privacy\" + 0.001*\"policy\"\n",
      "\tText:    use track usage understand login contact support advanced search share login institutional login register password login need login help registered share add create publication alert export recommend library form title terminology international journal theoretical applied specialized communication terminology international journal theoretical applied specialized communication recommend title library home terminology international …\n",
      "\n",
      "Heiberger and Riebling - 2016 - Installing computational social science Facing th.txt\n",
      "\tMain topic: 0.002*\"scholar\" + 0.001*\"sentiment\" + 0.001*\"model\" + 0.001*\"word\" + 0.001*\"summarization\" + 0.001*\"die\" + 0.001*\"social\" + 0.001*\"sentence\" + 0.001*\"document\" + 0.001*\"query\"\n",
      "\tText:    commons non commercial article distributed creative commons attribution noncommercial license non commercial use reproduction distribution work permission provided original work sage open access nam open access sage methodological volume author introduction recent ability people connect globe dramatically technological related ongoing great enhance understanding complex live today increasing availability massive social …\n",
      "\n",
      "Seresinhe et al. - 2018 - Quantifying scenic areas using crowdsourced data.txt\n",
      "\tMain topic: 0.003*\"scholar\" + 0.002*\"enter\" + 0.002*\"word\" + 0.001*\"sign\" + 0.001*\"password\" + 0.001*\"title\" + 0.001*\"privacy\" + 0.001*\"model\" + 0.001*\"semantic\" + 0.001*\"document\"\n",
      "\tText:    urban analytics city science scenic data helen moat tobias warwick business school university warwick alan institute abstract policy urban aesthetically pleasing surroundings improve date scenic area proved difficulty gathering large scale study ask combined geographic data help estimate scenic people consider area validate data scenic rate great britain data generate …\n",
      "\n",
      "55673.txt\n",
      "\tMain topic: 0.003*\"scholar\" + 0.002*\"enter\" + 0.002*\"title\" + 0.002*\"sign\" + 0.002*\"privacy\" + 0.002*\"password\" + 0.001*\"purchase\" + 0.001*\"organization\" + 0.001*\"policy\" + 0.001*\"history\"\n",
      "\tText:    toggle navigation english norsk english english norsk administration toggle navigation view item home view item home view item disabled browser site work arbitrariness linguistic sign correlation word form meaning russian journal article peer view open year permanent link urn urn following collection original version nye abstract paper present preliminary finding …\n",
      "\n",
      "Dimitrov et al. - 2018 - Query for Architecture, Click through Military Co.txt\n",
      "\tMain topic: 0.003*\"scholar\" + 0.001*\"sentiment\" + 0.001*\"dialogue\" + 0.001*\"helpfulness\" + 0.001*\"twitter\" + 0.001*\"model\" + 0.001*\"query\" + 0.001*\"privacy\" + 0.001*\"media\" + 0.001*\"cite\"\n",
      "\tText:    architecture click military search navigation institute social university landau florian university institute social florian fabian institute social fabian markus university institute social markus abstract encyclopedic information web enormous traffic paper study large scale article access data english order compare respect main information seeking search query navigation following end propose employ …\n",
      "\n",
      "Eglowski - 2017 - CREATE Clinical Record Analysis Technology Ensemb.txt\n",
      "\tMain topic: 0.002*\"scholar\" + 0.001*\"sentiment\" + 0.001*\"model\" + 0.001*\"word\" + 0.001*\"summarization\" + 0.001*\"die\" + 0.001*\"social\" + 0.001*\"sentence\" + 0.001*\"document\" + 0.001*\"query\"\n",
      "\tText:    clinical record analysis technology ensemble thesis faculty california polytechnic state university san luis obispo partial fulfillment degree master science science june reserved committee membership title create clinical record analysis tech ensemble author date june committee chair alexander professor science committee member professor science committee member maria professor science committee member …\n",
      "\n",
      "Do et al. - 2017 - Legal question answering using ranking SVM and dee.txt\n",
      "\tMain topic: 0.002*\"scholar\" + 0.001*\"media\" + 0.001*\"screening\" + 0.001*\"blackthorn\" + 0.001*\"crisis\" + 0.001*\"suicide\" + 0.001*\"word\" + 0.001*\"sentence\" + 0.001*\"article\" + 0.001*\"image\"\n",
      "\tText:    question deep convolutional neural network tien nguyen chien tran tien nguyen nguyen school information science japan advanced institute science technology japan hung yen university education technology hung yen chien tran abstract paper study convolutional neural network legal information retrieval question competition legal extraction entailment task model triple manhattan based para …\n",
      "\n",
      "Corley et al. - 2015 - Exploring the use of deep learning for feature loc.txt\n",
      "\tMain topic: 0.002*\"scholar\" + 0.001*\"query\" + 0.001*\"bug\" + 0.001*\"entity\" + 0.001*\"article\" + 0.001*\"browser\" + 0.001*\"model\" + 0.001*\"terrier\" + 0.001*\"emotion\" + 0.001*\"title\"\n",
      "\tText:    use deep learning feature location christopher university alabama virginia commonwealth university richmond nicholas kraft abb corporate research nicholas kraft abb learning class neural relative gram deep learning capture complex statistical based smaller training corpora paper explore use particular deep learning model document feature location use source code capture influence context …\n",
      "\n",
      "Cho and Yoon - 2017 - Issues in Visualizing Intercultural Dialogue Using.txt\n",
      "\tMain topic: 0.001*\"scholar\" + 0.001*\"sentiment\" + 0.001*\"bug\" + 0.001*\"translation\" + 0.001*\"browse\" + 0.001*\"enter\" + 0.001*\"false\" + 0.001*\"sign\" + 0.001*\"gene\" + 0.001*\"crisis\"\n",
      "\tText:    intercultural dialogue cho sang min laboratory college science university south way visualize intercultural dialogue plot jointly intercultural locate relatively position kind similarity relationship japanese transcription korean japanese dialogue algorithm generate noun jointly korean japanese visualization process tracked involved generating meaningful visualization noun jointly intercultural suppose build dynamically dialogue intercultural taking …\n",
      "\n",
      "Banuqitah et al. - 2016 - Big Data Knowledge Mining.txt\n",
      "\tMain topic: 0.002*\"scholar\" + 0.002*\"enter\" + 0.002*\"sign\" + 0.002*\"title\" + 0.001*\"password\" + 0.001*\"privacy\" + 0.001*\"purchase\" + 0.001*\"organization\" + 0.001*\"policy\" + 0.001*\"history\"\n",
      "\tText:    international journal advanced science vol big data knowledge mining science king university data era ascent big data information accumulation grown ability present instrument catch manage process tolerable short time volume characteristic big data velocity variety value contain research literature rich knowledge huge research remain significantly source biological information useful knowledge …\n",
      "\n",
      "Dutt et al. - 2018 - 'Senator, We Sell Ads' Analysis of the 2016 Russi.txt\n",
      "\tMain topic: 0.003*\"scholar\" + 0.002*\"enter\" + 0.002*\"title\" + 0.002*\"sign\" + 0.002*\"privacy\" + 0.002*\"password\" + 0.001*\"purchase\" + 0.001*\"organization\" + 0.001*\"policy\" + 0.001*\"history\"\n",
      "\tText:    sell analysis russian campaign deb ferrara indian institute technology india university southern california abstract key united democracy free fair allow peaceful transfer power president presidential election suspected foreign influence election significant portion suspected influence carried social media paper look specifically allegedly russian government congress house intelligence committee natural language determine …\n",
      "\n",
      "NPDF2.txt\n",
      "\tMain topic: 0.001*\"scholar\" + 0.001*\"word\" + 0.001*\"sentiment\" + 0.001*\"query\" + 0.001*\"similarity\" + 0.001*\"gender\" + 0.001*\"lope\" + 0.001*\"training\" + 0.001*\"mental\" + 0.001*\"gram\"\n",
      "\tText:    california santa barbara opinion detection sentiment analysis user attribute detection text data dissertation partial satisfaction degree doctor philosophy science committee charge professor linda chair professor noah professor yan september preview reserved information quality reproduction dependent quality copy unlikely event author send complete manuscript missing noted material removed note indicate deletion …\n",
      "\n",
      "Qiu et al. - 2018 - Deep learning for automated extraction of primary .txt\n",
      "\tMain topic: 0.003*\"scholar\" + 0.002*\"enter\" + 0.002*\"word\" + 0.001*\"sign\" + 0.001*\"password\" + 0.001*\"title\" + 0.001*\"privacy\" + 0.001*\"model\" + 0.001*\"semantic\" + 0.001*\"document\"\n",
      "\tText:    personal use permitted republication redistribution permission index information article accepted publication future issue journal fully content change prior final publication citation information journal health pathology primary source information cancer process high free text annually information extraction manual labor intensive process study deep learning convolutional neural network topographic corpus breast lung …\n",
      "\n",
      "Xu et al. - 2016 - Domain-specific cross-language relevant question r.txt\n",
      "\tMain topic: 0.003*\"scholar\" + 0.002*\"enter\" + 0.002*\"word\" + 0.001*\"sign\" + 0.001*\"password\" + 0.001*\"title\" + 0.001*\"privacy\" + 0.001*\"model\" + 0.001*\"semantic\" + 0.001*\"document\"\n",
      "\tText:    management university institutional knowledge management university research collection school information school information domain specific cross language relevant question retrieval management university australian national university university david management university university follow additional works ink library sis research information commons numerical analysis scientific commons engineering commons journal article brought free open access …\n",
      "\n",
      "978-3-319-46604-0_29.txt\n",
      "\tMain topic: 0.003*\"scholar\" + 0.002*\"enter\" + 0.002*\"title\" + 0.002*\"sign\" + 0.002*\"privacy\" + 0.002*\"password\" + 0.001*\"purchase\" + 0.001*\"organization\" + 0.001*\"policy\" + 0.001*\"history\"\n",
      "\tText:    skip main content service advanced available learn advertisement hide search search home contact log vision european conference vision vision cite dynamic lexicon generation natural scene patel conference paper september lecture science book series volume abstract scene text understanding approach end end recognition problem word spotting perspective huge benefit small image …\n",
      "\n",
      "Konstantinovskiy et al. - 2018 - Towards Automated Factchecking Developing an Anno.txt\n",
      "\tMain topic: 0.002*\"null\" + 0.001*\"query\" + 0.001*\"scholar\" + 0.001*\"emotion\" + 0.001*\"copyright\" + 0.001*\"summarization\" + 0.001*\"word\" + 0.001*\"document\" + 0.001*\"mesh\" + 0.001*\"entity\"\n",
      "\tText:    annotation schema consistent claim detection lev oliver price fact university warwick coventry abstract effort assist process tackle claim detection task necessary prior veracity claim set long text capable paper col work fact independent charity academic professional develop annotation schema claim consistent time previous annotation schema political introduce approach based universal …\n",
      "\n",
      "Foka2018_Article_AnArtistRankingSystemBasedOnSo.txt\n",
      "\tMain topic: 0.001*\"scholar\" + 0.001*\"word\" + 0.001*\"sentiment\" + 0.001*\"query\" + 0.001*\"similarity\" + 0.001*\"gender\" + 0.001*\"lope\" + 0.001*\"training\" + 0.001*\"mental\" + 0.001*\"gram\"\n",
      "\tText:    retrieval artist based social media mining received january accepted january february springer science business media springer nature abstract currently social media post opinion behavior led numerous social media data measure public opinion similar way poll survey paper present application social media mining art market best knowledge attempt social media extract …\n",
      "\n",
      "Kale et al. - 2017 - Towards semantic query segmentation.txt\n",
      "\tMain topic: 0.002*\"scholar\" + 0.001*\"deep\" + 0.001*\"query\" + 0.001*\"model\" + 0.001*\"political\" + 0.001*\"word\" + 0.001*\"neural\" + 0.001*\"server\" + 0.001*\"arabic\" + 0.001*\"brazilian\"\n",
      "\tText:    semantic query segmentation kale taula hamilton ave san jose abstract query segmentation critical standing search intent information retrieval grouping search query meaningful help downstream like search relevance query paper propose novel approach seg ment user distributed query key contribution approach segmentation task low dimensional feature getting rid traditional hand tuned …\n",
      "\n",
      "Gerber et al. - DiscoverCT.txt\n",
      "\tMain topic: 0.002*\"scholar\" + 0.001*\"query\" + 0.001*\"bug\" + 0.001*\"entity\" + 0.001*\"article\" + 0.001*\"browser\" + 0.001*\"model\" + 0.001*\"terrier\" + 0.001*\"emotion\" + 0.001*\"title\"\n",
      "\tText:    discover clinical final project report school information team colin jason advisor professor hearst table contents project goal background research registry data medical thesaurus institution deduplication linking data quality mesh term active learning interface mesh recommendation engine ser research initial inquiry interface testing deduplication publication linkage term ser testing navigation active …\n",
      "\n",
      "Cerón-Guzmán - A Sentiment Analysis Model of Spanish Tweets.txt\n",
      "\tMain topic: 0.002*\"scholar\" + 0.001*\"sentiment\" + 0.001*\"model\" + 0.001*\"word\" + 0.001*\"summarization\" + 0.001*\"die\" + 0.001*\"social\" + 0.001*\"sentence\" + 0.001*\"document\" + 0.001*\"query\"\n",
      "\tText:    sentiment analysis model spanish case study presidential election industrial sentiment analysis model spanish case study presidential election thesis partial fulfillment degree master engineering advisor elizabeth industrial title english sentiment analysis model spanish case study presidential election twitter abstract people social media turned rich source information understand social behavior sentiment analysis …\n",
      "\n",
      "papers.txt\n",
      "\tMain topic: 0.001*\"scholar\" + 0.001*\"enter\" + 0.001*\"venue\" + 0.001*\"visual\" + 0.001*\"para\" + 0.001*\"sign\" + 0.001*\"similarity\" + 0.001*\"las\" + 0.001*\"purchase\" + 0.001*\"emotion\"\n",
      "\tText:    main content use like saved create browse submit paper library browse submit paper library create paper open browser add paper library share link ensure access page indefinitely copy copy radical food industry text mining study higher school economics research paper posted mar ilya higher school economics national research university higher …\n",
      "\n",
      "S0167865517300430.txt\n",
      "\tMain topic: 0.001*\"document\" + 0.001*\"semantic\" + 0.001*\"word\" + 0.001*\"item\" + 0.001*\"grammar\" + 0.001*\"social\" + 0.001*\"tweet\" + 0.001*\"similarity\" + 0.001*\"model\" + 0.001*\"concept\"\n",
      "\tText:    skip main content register sign outline access export advanced outline abstract introduction biometrics integration collaborative context aware visual question image representation deep learning text generation understanding word long term concept feedback temporal tell biometric forensic integration tell conformal prediction tell quo outline disabled browser enable use page pattern recognition available …\n",
      "\n",
      "Zhou and Inui - 2015 - Exploring Linguistic Features for Cross-document N.txt\n",
      "\tMain topic: 0.001*\"document\" + 0.001*\"semantic\" + 0.001*\"word\" + 0.001*\"item\" + 0.001*\"grammar\" + 0.001*\"social\" + 0.001*\"tweet\" + 0.001*\"similarity\" + 0.001*\"model\" + 0.001*\"concept\"\n",
      "\tText:    exploring linguistic cross document entity graduate school information university introduction natural language important ways writing multiple sur different share surface example place different cross document entity task mention certain entity linking different corresponding large scale edge base context information source knowledge base state art simultaneously resolve multiple adopt link based …\n",
      "\n",
      "Müller - 2014 - Methods for learning structured prediction in sema.txt\n",
      "\tMain topic: 0.002*\"scholar\" + 0.001*\"sentiment\" + 0.001*\"model\" + 0.001*\"word\" + 0.001*\"summarization\" + 0.001*\"die\" + 0.001*\"social\" + 0.001*\"sentence\" + 0.001*\"document\" + 0.001*\"query\"\n",
      "\tText:    learning structured prediction semantic segmentation natural andreas christian learning structured prediction semantic segmentation natural dissertation nat wilhelm andreas christian aus main september prof prof gall tag promotion ist problem wir aus teil wir clustering wir mus aus hat clustering ist teil rung das supervision form ist teil random wir wir …\n",
      "\n",
      "2059799115622763.txt\n",
      "\tMain topic: 0.002*\"scholar\" + 0.001*\"sentiment\" + 0.001*\"model\" + 0.001*\"word\" + 0.001*\"summarization\" + 0.001*\"die\" + 0.001*\"social\" + 0.001*\"sentence\" + 0.001*\"document\" + 0.001*\"query\"\n",
      "\tText:    commons non commercial article distributed creative commons attribution noncommercial license non commercial use reproduction distribution work permission provided original work sage open access nam open access sage methodological volume author introduction recent ability people connect globe dramatically technological related ongoing great enhance understanding complex live today increasing availability massive social …\n",
      "\n"
     ]
    }
   ],
   "source": [
    "x = document_topics[:, 0]\n",
    "\n",
    "print('\\n'.join([\n",
    "    '{}\\n\\tMain topic: {}\\n\\tText:    {}\\n'.format(\n",
    "        text_links[index],\n",
    "        lda_model_30d.print_topic(sorted(\n",
    "            lda_model_30d.get_document_topics(tfidf_corpus[index]),\n",
    "            key=lambda x: x[1]\n",
    "        )[-1][0]),\n",
    "        '{} …'.format(' '.join(texts[index][:50]))\n",
    "    )\n",
    "    for index in ((x < 0.75) & (x > 0.71)).nonzero()[0]\n",
    "]))"
   ]
  },
  {
   "cell_type": "markdown",
   "metadata": {},
   "source": [
    "### Using Latent Semantic Analysis\n",
    "Transform the sparse corpus vectors to dense 2D vectors using LSA, L2-normalize them, and plot them."
   ]
  },
  {
   "cell_type": "code",
   "execution_count": 36,
   "metadata": {},
   "outputs": [
    {
     "data": {
      "text/plain": [
       "<matplotlib.collections.PathCollection at 0x7fa1b98bc588>"
      ]
     },
     "execution_count": 36,
     "metadata": {},
     "output_type": "execute_result"
    },
    {
     "data": {
      "image/png": "[encoded data removed]",
      "text/plain": [
       "<Figure size 1440x1440 with 1 Axes>"
      ]
     },
     "metadata": {
      "needs_background": "light"
     },
     "output_type": "display_data"
    }
   ],
   "source": [
    "import matplotlib.pyplot as plt\n",
    "import numpy as np\n",
    "\n",
    "\n",
    "document_topics = np.asfarray(lsa_model_2d[tfidf_corpus])[:, :, 1]\n",
    "document_topics /= np.linalg.norm(document_topics, axis=1)[:, np.newaxis]\n",
    "\n",
    "ax = plt.figure(figsize=(20, 20))\n",
    "plt.scatter(document_topics[:, 0], document_topics[:, 1])"
   ]
  },
  {
   "cell_type": "markdown",
   "metadata": {},
   "source": [
    "Hand-pick a cluster from the above plot."
   ]
  },
  {
   "cell_type": "code",
   "execution_count": 64,
   "metadata": {
    "scrolled": false
   },
   "outputs": [
    {
     "name": "stdout",
     "output_type": "stream",
     "text": [
      "2605516.txt\n",
      "\tMain topic:  0.002*\"scholar\" + 0.001*\"article\" + 0.001*\"sign\" + 0.001*\"enter\" + 0.001*\"word\" + 0.001*\"parser\" + 0.001*\"title\" + 0.001*\"purchase\" + 0.001*\"document\" + 0.001*\"gang\"\n",
      "\tText:        use enhance experience use agreeing use change time skip main content search account menu menu sign register search filter digital scholarship mobile search term sign register advance submit author submission site order open access purchase digital scholarship european association digital alliance digital editorial board advertising corporate career network self policy …\n",
      "\n",
      "art00010.txt\n",
      "\tMain topic:  0.002*\"gene\" + 0.001*\"recommendation\" + 0.001*\"clustering\" + 0.001*\"similarity\" + 0.001*\"expression\" + 0.001*\"neighborhood\" + 0.001*\"article\" + 0.001*\"ariadne\" + 0.001*\"cluster\" + 0.001*\"cigarette\"\n",
      "\tText:        skip main content toggle navigation contact help cart follow browse search search article title abstract article title article text article publication title author free accessible advanced search browse publication publisher subject page secure home journal health administration education volume number open close competency graduate management education analysis current getting best …\n",
      "\n",
      "13428_2017_931_Fig3_HTML.txt\n",
      "\tMain topic:  0.003*\"enter\" + 0.002*\"sign\" + 0.002*\"password\" + 0.002*\"title\" + 0.002*\"purchase\" + 0.002*\"policy\" + 0.001*\"organization\" + 0.001*\"privacy\" + 0.001*\"profession\" + 0.001*\"humanity\"\n",
      "\tText:        page sorry page unavailable link broken longer start …\n",
      "\n",
      "13428_2017_931_Fig7_HTML.txt\n",
      "\tMain topic:  0.003*\"enter\" + 0.002*\"sign\" + 0.002*\"password\" + 0.002*\"title\" + 0.002*\"purchase\" + 0.002*\"policy\" + 0.001*\"organization\" + 0.001*\"privacy\" + 0.001*\"profession\" + 0.001*\"humanity\"\n",
      "\tText:        page sorry page unavailable link broken longer start …\n",
      "\n",
      "65941.txt\n",
      "\tMain topic:  0.001*\"scholar\" + 0.001*\"enter\" + 0.001*\"venue\" + 0.001*\"visual\" + 0.001*\"para\" + 0.001*\"sign\" + 0.001*\"similarity\" + 0.001*\"las\" + 0.001*\"purchase\" + 0.001*\"emotion\"\n",
      "\tText:        repository national university home search material institutional repository links staff add information open access contact disabled browser site work national university reserved law …\n",
      "\n",
      "2016-57141-002.txt\n",
      "\tMain topic:  0.003*\"enter\" + 0.002*\"sign\" + 0.002*\"scholar\" + 0.002*\"password\" + 0.002*\"title\" + 0.002*\"purchase\" + 0.002*\"privacy\" + 0.002*\"policy\" + 0.001*\"organization\" + 0.001*\"humanity\"\n",
      "\tText:        skip navigation apa mobile menu search browse login login american psychological association street washington telephone contact apa feedback help privacy statement service disclaimer require adobe acrobat reader apa style twitter session warning apa session soon inactivity continue session message session timed inactive restart important security trying access apa different session …\n",
      "\n",
      "13428_2017_931_Fig6_HTML.txt\n",
      "\tMain topic:  0.003*\"enter\" + 0.002*\"sign\" + 0.002*\"password\" + 0.002*\"title\" + 0.002*\"purchase\" + 0.002*\"policy\" + 0.001*\"organization\" + 0.001*\"privacy\" + 0.001*\"profession\" + 0.001*\"humanity\"\n",
      "\tText:        page sorry page unavailable link broken longer start …\n",
      "\n",
      "2041-210X.txt\n",
      "\tMain topic:  0.001*\"enter\" + 0.001*\"password\" + 0.001*\"scholar\" + 0.001*\"sentence\" + 0.001*\"sign\" + 0.001*\"bow\" + 0.001*\"title\" + 0.001*\"summarization\" + 0.001*\"clinical\" + 0.001*\"arabic\"\n",
      "\tText:        main content browse site agree use policy journal search term advanced search citation search search search term advanced search citation search search login register functional ecology journal animal ecology journal applied ecology journal ecology ecology evolution people nature join bes bes ecology evolution volume issue review content analysis big literature …\n",
      "\n",
      "13428_2017_931_Fig1_HTML.txt\n",
      "\tMain topic:  0.003*\"enter\" + 0.002*\"sign\" + 0.002*\"password\" + 0.002*\"title\" + 0.002*\"purchase\" + 0.002*\"policy\" + 0.001*\"organization\" + 0.001*\"privacy\" + 0.001*\"profession\" + 0.001*\"humanity\"\n",
      "\tText:        page sorry page unavailable link broken longer start …\n",
      "\n",
      "6466.txt\n",
      "\tMain topic:  0.001*\"clinical\" + 0.001*\"gossip\" + 0.001*\"splice\" + 0.001*\"hyperbolic\" + 0.001*\"ethics\" + 0.001*\"theme\" + 0.001*\"liver\" + 0.001*\"henry\" + 0.001*\"disabled\" + 0.001*\"enter\"\n",
      "\tText:        disabled browser site work copyright theme …\n",
      "\n",
      "13428_2017_931_Fig4_HTML.txt\n",
      "\tMain topic:  0.003*\"enter\" + 0.002*\"sign\" + 0.002*\"password\" + 0.002*\"title\" + 0.002*\"purchase\" + 0.002*\"policy\" + 0.001*\"organization\" + 0.001*\"privacy\" + 0.001*\"profession\" + 0.001*\"humanity\"\n",
      "\tText:        page sorry page unavailable link broken longer start …\n",
      "\n",
      "11050.txt\n",
      "\tMain topic:  0.003*\"enter\" + 0.002*\"sign\" + 0.002*\"title\" + 0.002*\"password\" + 0.002*\"purchase\" + 0.002*\"policy\" + 0.001*\"organization\" + 0.001*\"privacy\" + 0.001*\"history\" + 0.001*\"humanity\"\n",
      "\tText:        improving automatically dynamic language manakin repository login content search disabled browser site work help university cape town university cape town reserved site free reuse according associated provision read usage resource …\n",
      "\n",
      "10289.txt\n",
      "\tMain topic:  0.002*\"scholar\" + 0.001*\"article\" + 0.001*\"word\" + 0.001*\"distance\" + 0.001*\"depression\" + 0.001*\"social\" + 0.001*\"personality\" + 0.001*\"similarity\" + 0.001*\"model\" + 0.001*\"semantic\"\n",
      "\tText:        menu home contact looking general login home general science engineering technology general science engineering technology general science engineering technology view item disabled browser site work quick links research development work sector news contact legislation compliance legal notice disclaimer privacy notice manual site map copyright general physical address road south postal …\n",
      "\n",
      "citation.txt\n",
      "\tMain topic:  0.002*\"scholar\" + 0.001*\"article\" + 0.001*\"word\" + 0.001*\"distance\" + 0.001*\"depression\" + 0.001*\"social\" + 0.001*\"personality\" + 0.001*\"similarity\" + 0.001*\"model\" + 0.001*\"semantic\"\n",
      "\tText:        help design new digital library like input sign review new functionality page leave address follow interested sign sign content representation similarity based topic extraction text article konstantinos knowledge engineering lab institute national center scientific research computational intelligence lab institute national center scientific research proceeding hellenic conference artificial intelligence article new …\n",
      "\n",
      "Sadeh and Smith - Unsupervised Alignment of Privacy Policies using H.txt\n",
      "\tMain topic:  0.003*\"scholar\" + 0.001*\"sentiment\" + 0.001*\"dialogue\" + 0.001*\"helpfulness\" + 0.001*\"twitter\" + 0.001*\"model\" + 0.001*\"query\" + 0.001*\"privacy\" + 0.001*\"media\" + 0.001*\"cite\"\n",
      "\tText:        alignment privacy hidden rohan fei norman noah smith school science carnegie mellon university abstract support empirical study privacy consider problem thousand policy based address apply unsupervised new approach effective topic introduction privacy policy verbose legal people encounter provide web read privacy access course year end spending substantial time able answer …\n",
      "\n",
      "13428_2017_931_Fig5_HTML.txt\n",
      "\tMain topic:  0.003*\"enter\" + 0.002*\"sign\" + 0.002*\"password\" + 0.002*\"title\" + 0.002*\"purchase\" + 0.002*\"policy\" + 0.001*\"organization\" + 0.001*\"privacy\" + 0.001*\"profession\" + 0.001*\"humanity\"\n",
      "\tText:        page sorry page unavailable link broken longer start …\n",
      "\n",
      "error%20in%20script.txt\n",
      "\tMain topic:  0.001*\"scholar\" + 0.001*\"sentiment\" + 0.001*\"bug\" + 0.001*\"translation\" + 0.001*\"browse\" + 0.001*\"enter\" + 0.001*\"false\" + 0.001*\"sign\" + 0.001*\"gene\" + 0.001*\"crisis\"\n",
      "\tText:        home login abstract parole simple search advanced search browse browse author browse subject browse year browse type browse del text policy file error script file server page following link repository contact administration check correctly contact person site powered school electronics science university information …\n",
      "\n",
      "13428_2017_931_Fig2_HTML.txt\n",
      "\tMain topic:  0.003*\"enter\" + 0.002*\"sign\" + 0.002*\"password\" + 0.002*\"title\" + 0.002*\"purchase\" + 0.002*\"policy\" + 0.001*\"organization\" + 0.001*\"privacy\" + 0.001*\"profession\" + 0.001*\"humanity\"\n",
      "\tText:        page sorry page unavailable link broken longer start …\n",
      "\n"
     ]
    }
   ],
   "source": [
    "y = document_topics[:, 1]\n",
    "\n",
    "print('\\n'.join([\n",
    "    '{}\\n\\tMain topic: {}\\n\\tText:    {}\\n'.format(\n",
    "        text_links[index],\n",
    "        lda_model_30d.print_topic(sorted(\n",
    "            lda_model_30d.get_document_topics(tfidf_corpus[index]),\n",
    "            key=lambda x: x[1]\n",
    "        )[-1][0]),\n",
    "        '{} …'.format(' '.join(texts[index][:50]))\n",
    "    )\n",
    "    for index in ((y < 0.6) & (y > 0.5)).nonzero()[0]\n",
    "]))"
   ]
  }
 ],
 "metadata": {
  "kernelspec": {
   "display_name": "Python 3",
   "language": "python",
   "name": "python3"
  },
  "language_info": {
   "codemirror_mode": {
    "name": "ipython",
    "version": 3
   },
   "file_extension": ".py",
   "mimetype": "text/x-python",
   "name": "python",
   "nbconvert_exporter": "python",
   "pygments_lexer": "ipython3",
   "version": "3.5.3"
  }
 },
 "nbformat": 4,
 "nbformat_minor": 2
}
