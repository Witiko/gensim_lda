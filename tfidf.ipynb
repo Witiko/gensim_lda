{
 "cells": [
  {
   "cell_type": "code",
   "execution_count": 5,
   "metadata": {},
   "outputs": [],
   "source": [
    "import os\n",
    "from gensim.corpora.dictionary import Dictionary\n",
    "from gensim.models import LdaModel\n",
    "from gensim.parsing.preprocessing import preprocess_string\n",
    "from gensim.models import TfidfModel\n",
    "\n",
    "import numpy as np"
   ]
  },
  {
   "cell_type": "code",
   "execution_count": 2,
   "metadata": {},
   "outputs": [],
   "source": [
    "def filter_sentences_from_text(text_lines, min_line_len=20, min_sen_len=15):\n",
    "    fulltext = \" \".join([line for line in list(text_lines) if len([l for l in line.split(\" \") if len(l) > 0]) > min_line_len])\n",
    "    sens = filter(lambda sen: len(sen) >= min_sen_len, fulltext.split(\".\"))\n",
    "    return \". \".join(sens)"
   ]
  },
  {
   "cell_type": "code",
   "execution_count": 1,
   "metadata": {},
   "outputs": [],
   "source": [
    "def get_texts_from_dir(texts_dir):\n",
    "    txt_files = os.listdir(texts_dir)\n",
    "    txt_files = [os.path.join(texts_dir, txt) for txt in txt_files]\n",
    "    texts = dict()\n",
    "    for txt_f in list(filter(lambda path: path.endswith(\".txt\"), txt_files)):\n",
    "        try:\n",
    "            text = filter_sentences_from_text(open(txt_f, \"r\").readlines())\n",
    "            texts[txt_f] = preprocess_string(text)\n",
    "        except UnicodeDecodeError:\n",
    "            print(\"Utf-8 decode error on %s\" % txt_f)\n",
    "            continue\n",
    "    return texts\n"
   ]
  },
  {
   "cell_type": "code",
   "execution_count": 7,
   "metadata": {},
   "outputs": [],
   "source": [
    "texts_preproc = get_texts_from_dir(\"/data/gensim_citations_bkp/merged\")\n",
    "texts = texts = [t for t in texts_preproc.values() if len(t) > 0]\n",
    "texts_links = texts_preproc.keys()"
   ]
  },
  {
   "cell_type": "code",
   "execution_count": 8,
   "metadata": {},
   "outputs": [],
   "source": [
    "dictionary = Dictionary(texts)\n",
    "corpus = [dictionary.doc2bow(text) for text in texts]\n",
    "tfidf = TfidfModel(corpus)"
   ]
  },
  {
   "cell_type": "code",
   "execution_count": 37,
   "metadata": {},
   "outputs": [],
   "source": [
    "lda = LdaModel([[(x[0], x[1]/2) for x in doc_corpus] for doc_corpus in corpus], \n",
    "         num_topics=20, alpha='auto', eval_every=5)"
   ]
  },
  {
   "cell_type": "code",
   "execution_count": null,
   "metadata": {},
   "outputs": [],
   "source": [
    "lda"
   ]
  },
  {
   "cell_type": "code",
   "execution_count": 38,
   "metadata": {},
   "outputs": [],
   "source": [
    "def topic_distro_for_text(text):\n",
    "    return lda.get_document_topics(dictionary.doc2bow(text), minimum_probability=0)"
   ]
  },
  {
   "cell_type": "code",
   "execution_count": 24,
   "metadata": {},
   "outputs": [],
   "source": [
    "def terms_for_doc(doc_id):\n",
    "    return [(dictionary.get(tfidf_tuple[0]), tfidf_tuple[1]) for tfidf_tuple in tfidf[corpus[doc_id]]]"
   ]
  },
  {
   "cell_type": "code",
   "execution_count": 27,
   "metadata": {},
   "outputs": [],
   "source": [
    "def top_terms_for_doc(doc_id, percentile):\n",
    "    doc_terms_ordered = sorted(terms_for_doc(doc_id), key=lambda term: term[1],  reverse=True)\n",
    "    return [term[0] for term in doc_terms_ordered[:int(len(doc_terms_ordered)*percentile)]]"
   ]
  },
  {
   "cell_type": "code",
   "execution_count": 29,
   "metadata": {
    "scrolled": true
   },
   "outputs": [
    {
     "data": {
      "text/plain": [
       "['chang',\n",
       " 'diachron',\n",
       " 'effect',\n",
       " 'prototyp',\n",
       " 'likelihood',\n",
       " 'verb',\n",
       " 'noun',\n",
       " '\\ufeffto',\n",
       " 'semant',\n",
       " 'mutabl',\n",
       " 'independ',\n",
       " 'word',\n",
       " 'correl',\n",
       " 'identifi',\n",
       " 'causal',\n",
       " 'synchron',\n",
       " 'psycholinguist',\n",
       " 'button',\n",
       " 'class',\n",
       " 'factor',\n",
       " 'signific',\n",
       " 'complement',\n",
       " 'mere',\n",
       " 'navig',\n",
       " 'adject',\n",
       " 'explan',\n",
       " 'varianc',\n",
       " 'fashion',\n",
       " 'invers',\n",
       " 'quantifi',\n",
       " 'regress',\n",
       " 'recurr',\n",
       " 'click',\n",
       " 'number',\n",
       " 'token',\n",
       " 'lexicon',\n",
       " 'propos',\n",
       " 'cover',\n",
       " 'profil']"
      ]
     },
     "execution_count": 29,
     "metadata": {},
     "output_type": "execute_result"
    }
   ],
   "source": [
    "top_terms_for_doc(0, percentile=0.5)"
   ]
  },
  {
   "cell_type": "code",
   "execution_count": 31,
   "metadata": {
    "scrolled": true
   },
   "outputs": [
    {
     "data": {
      "text/plain": [
       "[(0, 1),\n",
       " (1, 1),\n",
       " (2, 1),\n",
       " (3, 1),\n",
       " (4, 1),\n",
       " (5, 1),\n",
       " (6, 1),\n",
       " (7, 1),\n",
       " (8, 8),\n",
       " (9, 2),\n",
       " (10, 1),\n",
       " (11, 1),\n",
       " (12, 1),\n",
       " (13, 1),\n",
       " (14, 1),\n",
       " (15, 1),\n",
       " (16, 2),\n",
       " (17, 2),\n",
       " (18, 1),\n",
       " (19, 1),\n",
       " (20, 1),\n",
       " (21, 3),\n",
       " (22, 1),\n",
       " (23, 2),\n",
       " (24, 5),\n",
       " (25, 1),\n",
       " (26, 1),\n",
       " (27, 1),\n",
       " (28, 1),\n",
       " (29, 1),\n",
       " (30, 2),\n",
       " (31, 1),\n",
       " (32, 1),\n",
       " (33, 3),\n",
       " (34, 2),\n",
       " (35, 1),\n",
       " (36, 1),\n",
       " (37, 1),\n",
       " (38, 1),\n",
       " (39, 2),\n",
       " (40, 1),\n",
       " (41, 1),\n",
       " (42, 1),\n",
       " (43, 1),\n",
       " (44, 1),\n",
       " (45, 1),\n",
       " (46, 2),\n",
       " (47, 2),\n",
       " (48, 1),\n",
       " (49, 1),\n",
       " (50, 1),\n",
       " (51, 1),\n",
       " (52, 1),\n",
       " (53, 2),\n",
       " (54, 2),\n",
       " (55, 1),\n",
       " (56, 1),\n",
       " (57, 1),\n",
       " (58, 1),\n",
       " (59, 1),\n",
       " (60, 1),\n",
       " (61, 1),\n",
       " (62, 1),\n",
       " (63, 5),\n",
       " (64, 1),\n",
       " (65, 2),\n",
       " (66, 1),\n",
       " (67, 1),\n",
       " (68, 1),\n",
       " (69, 1),\n",
       " (70, 1),\n",
       " (71, 1),\n",
       " (72, 2),\n",
       " (73, 1),\n",
       " (74, 1),\n",
       " (75, 2),\n",
       " (76, 6),\n",
       " (77, 1)]"
      ]
     },
     "execution_count": 31,
     "metadata": {},
     "output_type": "execute_result"
    }
   ],
   "source": [
    "dictionary.doc2bow(texts[0])"
   ]
  },
  {
   "cell_type": "code",
   "execution_count": 30,
   "metadata": {
    "scrolled": true
   },
   "outputs": [
    {
     "data": {
      "text/plain": [
       "[('adject', 0.09344360456582708),\n",
       " ('analysi', 0.02851096836158827),\n",
       " ('approach', 0.02717207327583276),\n",
       " ('assign', 0.06262975130624464),\n",
       " ('base', 0.022358188818841874),\n",
       " ('better', 0.04883172353650697),\n",
       " ('button', 0.11210965283447827),\n",
       " ('causal', 0.12374860032798168),\n",
       " ('chang', 0.4263888832753634),\n",
       " ('class', 0.11143296654456712),\n",
       " ('click', 0.07556100209969478),\n",
       " ('cluster', 0.04765787692078198),\n",
       " ('complement', 0.10422361531271052),\n",
       " ('complet', 0.06023140803970311),\n",
       " ('consent', 0.04588830094737287),\n",
       " ('contribut', 0.05508952505442333),\n",
       " ('cooki', 0.044223567067140424),\n",
       " ('correl', 0.1375865905197532),\n",
       " ('cover', 0.0722542938728129),\n",
       " ('data', 0.02099324057250092),\n",
       " ('degre', 0.0687932952598766),\n",
       " ('diachron', 0.40919533313685524),\n",
       " ('differ', 0.034329537636779185),\n",
       " ('distribut', 0.06786237626523418),\n",
       " ('effect', 0.21344281382618024),\n",
       " ('entir', 0.06575722936458926),\n",
       " ('establish', 0.06989407767593134),\n",
       " ('examin', 0.06348375065341606),\n",
       " ('experi', 0.026873113586261408),\n",
       " ('explan', 0.09202816064986685),\n",
       " ('factor', 0.11143296654456712),\n",
       " ('fashion', 0.0894190626912025),\n",
       " ('frequenc', 0.0587525491675709),\n",
       " ('identifi', 0.1315216872647399),\n",
       " ('independ', 0.13978815535186268),\n",
       " ('invers', 0.08198741455756116),\n",
       " ('item', 0.06482264573917157),\n",
       " ('lexic', 0.06023140803970311),\n",
       " ('lexicon', 0.07352449674572176),\n",
       " ('likelihood', 0.17642169230132967),\n",
       " ('linguist', 0.042501667335824445),\n",
       " ('mean', 0.04364480229658334),\n",
       " ('mere', 0.10422361531271052),\n",
       " ('model', 0.018969072772641243),\n",
       " ('mutabl', 0.14643919047125745),\n",
       " ('navig', 0.10422361531271052),\n",
       " ('noun', 0.16980827584756597),\n",
       " ('number', 0.07462656012219744),\n",
       " ('offer', 0.0693375705065911),\n",
       " ('paper', 0.02937239528135656),\n",
       " ('plai', 0.07104607733227525),\n",
       " ('profil', 0.0722542938728129),\n",
       " ('properti', 0.0722542938728129),\n",
       " ('propos', 0.07284695357154429),\n",
       " ('prototyp', 0.18688720913165416),\n",
       " ('psycholinguist', 0.11923367556056216),\n",
       " ('quantifi', 0.08198741455756116),\n",
       " ('rate', 0.062213547780507215),\n",
       " ('recurr', 0.08021783858415205),\n",
       " ('regress', 0.08108682342458094),\n",
       " ('result', 0.026382730693466448),\n",
       " ('role', 0.06023140803970311),\n",
       " ('second', 0.050833906602445994),\n",
       " ('semant', 0.16323908336465176),\n",
       " ('show', 0.05031798113198441),\n",
       " ('signific', 0.10835576248491846),\n",
       " ('site', 0.026577720101329683),\n",
       " ('specif', 0.041231464462915604),\n",
       " ('synchron', 0.12374860032798168),\n",
       " ('take', 0.0716428176978779),\n",
       " ('token', 0.07418489659844453),\n",
       " ('type', 0.04765787692078198),\n",
       " ('us', 0.025188266111853246),\n",
       " ('usual', 0.07104607733227525),\n",
       " ('varianc', 0.09068926556411135),\n",
       " ('verb', 0.17191612815653237),\n",
       " ('word', 0.13918626482458266),\n",
       " ('\\ufeffto', 0.16360395928964705)]"
      ]
     },
     "execution_count": 30,
     "metadata": {},
     "output_type": "execute_result"
    }
   ],
   "source": [
    "terms_for_doc(0)"
   ]
  },
  {
   "cell_type": "code",
   "execution_count": 48,
   "metadata": {},
   "outputs": [],
   "source": [
    "def tfidf_to_corpus(tfidf, corpus):\n",
    "    return [tfidf[corpus[doc_i]] for doc_i in range(len(corpus))]"
   ]
  },
  {
   "cell_type": "code",
   "execution_count": 49,
   "metadata": {},
   "outputs": [],
   "source": [
    "tfidf_corpus = tfidf_to_corpus(tfidf, corpus)"
   ]
  },
  {
   "cell_type": "code",
   "execution_count": 50,
   "metadata": {},
   "outputs": [],
   "source": [
    "lda_tfidf = LdaModel(tfidf_corpus, num_topics=20, alpha='auto', eval_every=5)"
   ]
  }
 ],
 "metadata": {
  "kernelspec": {
   "display_name": "Python 3",
   "language": "python",
   "name": "python3"
  },
  "language_info": {
   "codemirror_mode": {
    "name": "ipython",
    "version": 3
   },
   "file_extension": ".py",
   "mimetype": "text/x-python",
   "name": "python",
   "nbconvert_exporter": "python",
   "pygments_lexer": "ipython3",
   "version": "3.6.5"
  }
 },
 "nbformat": 4,
 "nbformat_minor": 2
}
